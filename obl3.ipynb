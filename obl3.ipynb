import pandas as pd
import matplotlib.pyplot as plt

def time_to_seconds(time_str):
    h, m, s = map(int, time_str.split(":"))
    return h * 3600 + m * 60 + s

def seconds_to_time(sec):
    h = sec // 3600
    m = (sec % 3600) // 60
    s = sec % 60
    return f"{h:02}:{m:02}:{s:02}"

# Reac excel file
file_path = "support_uke_24.xlsx"
df = pd.read_excel(file_path)

# Send data to lists
u_dag = df["Ukedag"].tolist()
kl_slett = df["Klokkeslett"].tolist()
varighet = df["Varighet"].tolist()
score = df["Tilfredshet"].tolist()

# Calculate
plt.figure(figsize=(8, 5))
pd.Series(u_dag).value_counts().plot(kind='bar')
plt.xlabel("Days")
plt.ylabel("Number of call")
plt.title("Number of call")
plt.xticks(rotation=45)
plt.grid(axis="y", linestyle="--", alpha=0.7)
plt.show()

# Shortest-longest
varighet_sec = [time_to_seconds(t) for t in varighet]
shortest_call = seconds_to_time(min(varighet_sec))
longest_call = seconds_to_time(max(varighet_sec))
print(f"shortest: {shortest_call}")
print(f"longest: {longest_call}")

# Average
average_time = seconds_to_time(int(sum(varighet_sec) / len(varighet_sec)))
print(f"Average: {average_time}")

# Time to time
time_ranges = {"08-10": 0, "10-12": 0, "12-14": 0, "14-16": 0}
for time in kl_slett:
    hour = int(time.split(":"[0]))
    if 8 <= hour < 10:
        time_ranges["08-10"] += 1
    elif 10 <= hour < 12:
        time_ranges["10-12"] += 1
    elif 12 <= hour < 14:
        time_ranges["12-14"] += 1
    elif 14 <= hour < 16:
        time_ranges["14-16"] += 1

# Graphics
plt.figure(figsize=(7, 7))
plt.pie(time_ranges.values(), labels=time_ranges.keys(), autopct="%1.1f%%", startangle=140)
plt.title("Call detail")
plt.show()

# NPS 
valid_scores = [s for s in score if not pd.isna(s)]
total_customers = len(valid_scores)
negative_count = sum(1 for s in valid_scores if 1 <= s <= 6)
positive_count = sum(1 for s in valid_scores if 9 <= s <= 10)
negative_percentage = (negative_count / total_customers) * 100
positive_percentage = (positive_count / total_customers) * 100
NPS_score = round(positive_percentage - negative_percentage, 2)
print(f"Support Departmant NPS Score: {NPS_score}")
